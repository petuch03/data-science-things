{
 "cells": [
  {
   "cell_type": "markdown",
   "metadata": {
    "id": "dBi-MfNgG9IB"
   },
   "source": [
    "## Homework on Modern Convolutional Neural Networks\n",
    "\n",
    "### Description\n",
    "In this homework, you need to write a convolutional neural network for image classification.\n",
    "\n",
    "You have been provided with a modified dataset of The Street View House Numbers ([SVHN](http://ufldl.stanford.edu/housenumbers/)). It contains 50 thousand (train) + 25 thousand (test) 32x32 RGB images with numbers cut from real photos of house numbers.\n",
    "\n",
    "Task: use convolutional neural networks to achieve maximum classification accuracy.\n",
    "\n",
    "In this homework task, there are no restrictions on the architecture of the model, but you **need to implement it in PyTorch by yourself** and train it from scratch only on this dataset, without external data.\n",
    "\n",
    "### Data\n",
    "This notebook already has the code for PyTorch responsible for loading the data. The following is a brief description of the data storage format.\n",
    "\n",
    "Each of the files is a `pickle` serialized with protocol version 4 (which became the default version in Python 3.8 and later) a python dictionary.\n",
    "\n",
    "List of files:\n",
    " \n",
    "- `meta` — dataset metadata (for example, class names)\n",
    "- `data_train` — training data, 50K objects\n",
    "- `data_test` — data for the test, 25K objects, without the correct classes\n",
    "\n",
    "Data dictionaries have the following fields:\n",
    "\n",
    "- `section` — name of the data part (train/test)\n",
    "- `labels` — ground-truth classes, list of `N` numbers from 0 to 9\n",
    "- `images` — numpy array of size `(N, 32, 32, 3)` with images\n",
    "\n",
    "### Evaluation\n",
    "The metric accuracy will evaluate the quality of the solution. Accuracy is the number of correctly classified pictures to the total number of pictures in the test set. The public leaderboard is calculated using 30% of the test data, so try not to retrain for it.\n",
    "\n",
    "```\n",
    "accuracy = (correct classified) / (total number of examples)\n",
    "```\n",
    "\n",
    "As a solution, you should send a file of the format:\n",
    "\n",
    "```\n",
    "ID,Category\n",
    "0, 3\n",
    "1, 2\n",
    "2, 9\n",
    "3, 1\n",
    "...\n",
    "```\n",
    "\n",
    "where:\n",
    "\n",
    "- `Id` — number of the object in the test dataset\n",
    "- `Category` — predicted object class\n",
    "\n",
    "This notebook already has the code that prepares the solution file.\n",
    "\n",
    "### Experiments\n",
    "\n",
    "Since there are so many different hyperparameters in training a neural network model, many different experiments will need to be done in this task. And it will be beneficial, both for you and for us, who check, the presence of a text description of all, or at least the most interesting/important in choosing the final model, experiments with the results in the final notebook. The presence and detail of the description of the experiments will be included in the final grade for the homework. The deadline on Kaggle is specially set a little earlier so that you have time to calmly finish the report on the experiments."
   ]
  },
  {
   "cell_type": "markdown",
   "metadata": {
    "id": "Jm6VSsdbG9IK"
   },
   "source": [
    "## Baseline solution"
   ]
  },
  {
   "cell_type": "code",
   "execution_count": 6,
   "metadata": {
    "id": "nWUgESjqG9IL",
    "ExecuteTime": {
     "end_time": "2023-12-20T14:05:54.881861Z",
     "start_time": "2023-12-20T14:05:54.850313Z"
    }
   },
   "outputs": [],
   "source": [
    "import numpy as np\n",
    "import matplotlib.pyplot as plt\n",
    "from tqdm import trange\n",
    "from IPython.display import clear_output"
   ]
  },
  {
   "cell_type": "code",
   "execution_count": 7,
   "metadata": {
    "id": "wxvsuhDsG9IO",
    "ExecuteTime": {
     "end_time": "2023-12-20T14:05:57.578109Z",
     "start_time": "2023-12-20T14:05:57.572494Z"
    }
   },
   "outputs": [],
   "source": [
    "import os\n",
    "import pickle\n",
    "from typing import Any, Callable, Optional, Tuple\n",
    "from PIL import Image"
   ]
  },
  {
   "cell_type": "code",
   "execution_count": 8,
   "outputs": [
    {
     "name": "stderr",
     "output_type": "stream",
     "text": [
      "/Library/Python/3.9/site-packages/urllib3/__init__.py:34: NotOpenSSLWarning: urllib3 v2 only supports OpenSSL 1.1.1+, currently the 'ssl' module is compiled with 'LibreSSL 2.8.3'. See: https://github.com/urllib3/urllib3/issues/3020\n",
      "  warnings.warn(\n"
     ]
    }
   ],
   "source": [
    "import torch\n",
    "from torch import nn\n",
    "from torch.utils.data import DataLoader, random_split\n",
    "from torchvision.transforms import ToTensor, Compose\n",
    "from torchvision.datasets.vision import VisionDataset"
   ],
   "metadata": {
    "collapsed": false,
    "ExecuteTime": {
     "end_time": "2023-12-20T14:06:01.264990Z",
     "start_time": "2023-12-20T14:05:59.838394Z"
    }
   }
  },
  {
   "cell_type": "markdown",
   "metadata": {
    "id": "WZHrDghiG9IR"
   },
   "source": [
    "The data is in the [Data](https://www.kaggle.com/competitions/nup-ml-1-2023-image-classification/data) section of the kaggle competition. <br>\n",
    "You need to download the archive with the data and unzip it. <br>\n",
    "In the variable below, specify the path to the dataset. <br>"
   ]
  },
  {
   "cell_type": "code",
   "execution_count": 35,
   "metadata": {
    "id": "4NztdwC4G9IS",
    "ExecuteTime": {
     "end_time": "2023-12-20T14:32:49.891379Z",
     "start_time": "2023-12-20T14:32:49.876790Z"
    }
   },
   "outputs": [],
   "source": [
    "dataset_root = \"image-classification/image-comp-data/\""
   ]
  },
  {
   "cell_type": "markdown",
   "metadata": {
    "id": "KKklLnOuG9IT"
   },
   "source": [
    "Code for loading the modified SVHN dataset. Initialization Arguments:\n",
    "\n",
    "- `root` — string, path to directory with dataset files\n",
    "- `is_train` — flag, load part for training or test\n",
    "- `transform` — image transformations\n",
    "- `target_transform` — image class transformations"
   ]
  },
  {
   "cell_type": "code",
   "execution_count": 36,
   "metadata": {
    "id": "qRFxlpiCG9IT",
    "ExecuteTime": {
     "end_time": "2023-12-20T14:32:52.800969Z",
     "start_time": "2023-12-20T14:32:52.796792Z"
    }
   },
   "outputs": [],
   "source": [
    "class SVHN(VisionDataset):\n",
    "\n",
    "    def __init__(self,\n",
    "                 root: str,\n",
    "                 is_train: bool = True,\n",
    "                 transform: Optional[Callable] = None,\n",
    "                 target_transform: Optional[Callable] = None,\n",
    "                 ) -> None:\n",
    "\n",
    "        super().__init__(root, transform=transform, target_transform=target_transform)\n",
    "        self.is_train = is_train\n",
    "\n",
    "        meta_path = os.path.join(self.root, 'meta')\n",
    "        with open(meta_path, \"rb\") as f:\n",
    "            content = pickle.load(f)\n",
    "            self.classes = content['label_names']\n",
    "            self.class_to_idx = {_class: i for i, _class in enumerate(self.classes)}\n",
    "\n",
    "        data_path = os.path.join(self.root, 'data_train' if is_train else 'data_test')\n",
    "        with open(data_path, \"rb\") as f:\n",
    "            content = pickle.load(f)\n",
    "            self.data = content['images']\n",
    "            self.targets = content.get('labels')\n",
    "\n",
    "    def __getitem__(self, index: int) -> Tuple[Any, Any]:\n",
    "        img = Image.fromarray(self.data[index].astype(np.uint8))\n",
    "        target = self.targets[index] if self.is_train else len(self.classes)\n",
    "        if self.transform is not None:\n",
    "            img = self.transform(img)\n",
    "        if self.target_transform is not None:\n",
    "            target = self.target_transform(target)\n",
    "        return img, target\n",
    "\n",
    "    def __len__(self) -> int:\n",
    "        return len(self.data)\n",
    "        \n",
    "    def extra_repr(self) -> str:\n",
    "        split = \"Train\" if self.train is True else \"Test\"\n",
    "        return f\"Split: {split}\""
   ]
  },
  {
   "cell_type": "markdown",
   "metadata": {
    "id": "lg_a30x0G9IW"
   },
   "source": [
    "### Dataset download"
   ]
  },
  {
   "cell_type": "code",
   "execution_count": 37,
   "metadata": {
    "id": "tP3muPkoG9IX",
    "ExecuteTime": {
     "end_time": "2023-12-20T14:32:54.818491Z",
     "start_time": "2023-12-20T14:32:54.364232Z"
    }
   },
   "outputs": [],
   "source": [
    "data = SVHN(\n",
    "    root=dataset_root,\n",
    "    is_train=True,\n",
    "    transform=ToTensor(),\n",
    ")"
   ]
  },
  {
   "cell_type": "markdown",
   "metadata": {
    "id": "X8lF96VKG9IY"
   },
   "source": [
    "We randomly split the dataset into training and validation. <br>\n",
    "In the first part, we will train the classification model. <br>\n",
    "In the second part, we will evaluate the quality during the experiments. <br>"
   ]
  },
  {
   "cell_type": "code",
   "execution_count": 38,
   "metadata": {
    "id": "OIpJTW_cG9IZ",
    "ExecuteTime": {
     "end_time": "2023-12-20T14:32:56.901114Z",
     "start_time": "2023-12-20T14:32:56.894425Z"
    }
   },
   "outputs": [],
   "source": [
    "train_data, val_data = torch.utils.data.random_split(\n",
    "    data, \n",
    "    [40000, 10000], \n",
    "    generator=torch.Generator().manual_seed(137),\n",
    ")"
   ]
  },
  {
   "cell_type": "markdown",
   "metadata": {
    "id": "jZ5iJsI5G9IZ"
   },
   "source": [
    "Data loaders initialization."
   ]
  },
  {
   "cell_type": "code",
   "execution_count": 39,
   "metadata": {
    "id": "kbOao5e0G9Ia",
    "ExecuteTime": {
     "end_time": "2023-12-20T14:32:58.940294Z",
     "start_time": "2023-12-20T14:32:58.934098Z"
    }
   },
   "outputs": [],
   "source": [
    "batch_size = 64\n",
    "train_dataloader = DataLoader(train_data, batch_size=batch_size)\n",
    "val_dataloader = DataLoader(val_data, batch_size=batch_size)"
   ]
  },
  {
   "cell_type": "markdown",
   "metadata": {
    "id": "Dv2vksflG9Ia"
   },
   "source": [
    "Let's see what size batches the data loader produces."
   ]
  },
  {
   "cell_type": "code",
   "execution_count": 40,
   "metadata": {
    "id": "XzFCXqL3G9Ib",
    "outputId": "ea5d15a0-9579-4774-fddb-58e182b7d743",
    "ExecuteTime": {
     "end_time": "2023-12-20T14:33:00.023582Z",
     "start_time": "2023-12-20T14:32:59.998081Z"
    }
   },
   "outputs": [
    {
     "name": "stdout",
     "output_type": "stream",
     "text": [
      "Shape of X [N, C, H, W]:  torch.Size([64, 3, 32, 32])\n",
      "Shape of y:  torch.Size([64]) torch.uint8\n"
     ]
    }
   ],
   "source": [
    "for X, y in train_dataloader:\n",
    "    print(\"Shape of X [N, C, H, W]: \", X.shape)\n",
    "    print(\"Shape of y: \", y.shape, y.dtype)\n",
    "    break"
   ]
  },
  {
   "cell_type": "markdown",
   "metadata": {
    "id": "hmKECcBTG9Ie"
   },
   "source": [
    "### Classification model"
   ]
  },
  {
   "cell_type": "code",
   "execution_count": 41,
   "metadata": {
    "id": "9SJwrIM4G9If",
    "outputId": "4f997206-10b6-456a-a62c-c87e52615b4e",
    "ExecuteTime": {
     "end_time": "2023-12-20T14:33:02.267261Z",
     "start_time": "2023-12-20T14:33:02.263284Z"
    }
   },
   "outputs": [
    {
     "name": "stdout",
     "output_type": "stream",
     "text": [
      "Using cpu device\n",
      "Sequential(\n",
      "  (0): Flatten(start_dim=1, end_dim=-1)\n",
      "  (1): Linear(in_features=3072, out_features=10, bias=True)\n",
      ")\n"
     ]
    }
   ],
   "source": [
    "device = \"cuda\" if torch.cuda.is_available() else \"cpu\"\n",
    "print(\"Using {} device\".format(device))\n",
    "model = nn.Sequential(\n",
    "    nn.Flatten(),\n",
    "    nn.Linear(3*32*32, 10),\n",
    ")\n",
    "model = model.to(device)\n",
    "print(model)"
   ]
  },
  {
   "cell_type": "markdown",
   "source": [
    "### AlexNet model"
   ],
   "metadata": {
    "collapsed": false
   }
  },
  {
   "cell_type": "code",
   "execution_count": 43,
   "outputs": [
    {
     "name": "stdout",
     "output_type": "stream",
     "text": [
      "AlexNet(\n",
      "  (features): Sequential(\n",
      "    (0): Conv2d(3, 64, kernel_size=(3, 3), stride=(1, 1), padding=(1, 1))\n",
      "    (1): ReLU(inplace=True)\n",
      "    (2): MaxPool2d(kernel_size=2, stride=2, padding=0, dilation=1, ceil_mode=False)\n",
      "    (3): Conv2d(64, 192, kernel_size=(3, 3), stride=(1, 1), padding=(1, 1))\n",
      "    (4): ReLU(inplace=True)\n",
      "    (5): MaxPool2d(kernel_size=2, stride=2, padding=0, dilation=1, ceil_mode=False)\n",
      "    (6): Conv2d(192, 384, kernel_size=(3, 3), stride=(1, 1), padding=(1, 1))\n",
      "    (7): ReLU(inplace=True)\n",
      "    (8): Conv2d(384, 256, kernel_size=(3, 3), stride=(1, 1), padding=(1, 1))\n",
      "    (9): ReLU(inplace=True)\n",
      "    (10): Conv2d(256, 256, kernel_size=(3, 3), stride=(1, 1), padding=(1, 1))\n",
      "    (11): ReLU(inplace=True)\n",
      "    (12): MaxPool2d(kernel_size=2, stride=2, padding=0, dilation=1, ceil_mode=False)\n",
      "  )\n",
      "  (avgpool): AdaptiveAvgPool2d(output_size=(6, 6))\n",
      "  (classifier): Sequential(\n",
      "    (0): Dropout(p=0.5, inplace=False)\n",
      "    (1): Linear(in_features=9216, out_features=4096, bias=True)\n",
      "    (2): ReLU(inplace=True)\n",
      "    (3): Dropout(p=0.5, inplace=False)\n",
      "    (4): Linear(in_features=4096, out_features=4096, bias=True)\n",
      "    (5): ReLU(inplace=True)\n",
      "    (6): Linear(in_features=4096, out_features=10, bias=True)\n",
      "  )\n",
      ")\n"
     ]
    }
   ],
   "source": [
    "class AlexNet(nn.Module):\n",
    "    def __init__(self, num_classes=10):\n",
    "        super(AlexNet, self).__init__()\n",
    "        self.features = nn.Sequential(\n",
    "            nn.Conv2d(3, 64, kernel_size=3, stride=1, padding=1),  # Adjusted to 3x3 kernel\n",
    "            nn.ReLU(inplace=True),\n",
    "            nn.MaxPool2d(kernel_size=2, stride=2),\n",
    "            nn.Conv2d(64, 192, kernel_size=3, padding=1),\n",
    "            nn.ReLU(inplace=True),\n",
    "            nn.MaxPool2d(kernel_size=2, stride=2),\n",
    "            nn.Conv2d(192, 384, kernel_size=3, padding=1),\n",
    "            nn.ReLU(inplace=True),\n",
    "            nn.Conv2d(384, 256, kernel_size=3, padding=1),\n",
    "            nn.ReLU(inplace=True),\n",
    "            nn.Conv2d(256, 256, kernel_size=3, padding=1),\n",
    "            nn.ReLU(inplace=True),\n",
    "            nn.MaxPool2d(kernel_size=2, stride=2),\n",
    "        )\n",
    "        self.avgpool = nn.AdaptiveAvgPool2d((6, 6))\n",
    "        self.classifier = nn.Sequential(\n",
    "            nn.Dropout(),\n",
    "            nn.Linear(256 * 6 * 6, 4096),\n",
    "            nn.ReLU(inplace=True),\n",
    "            nn.Dropout(),\n",
    "            nn.Linear(4096, 4096),\n",
    "            nn.ReLU(inplace=True),\n",
    "            nn.Linear(4096, num_classes),\n",
    "        )\n",
    "\n",
    "    def forward(self, x):\n",
    "        x = self.features(x)\n",
    "        x = self.avgpool(x)\n",
    "        x = x.view(x.size(0), 256 * 6 * 6)\n",
    "        x = self.classifier(x)\n",
    "        return x\n",
    "\n",
    "model = AlexNet(num_classes=10)\n",
    "model = model.to(device)\n",
    "print(model)"
   ],
   "metadata": {
    "collapsed": false,
    "ExecuteTime": {
     "end_time": "2023-12-20T14:33:55.608558Z",
     "start_time": "2023-12-20T14:33:55.423456Z"
    }
   }
  },
  {
   "cell_type": "markdown",
   "metadata": {
    "id": "Y5wEN_6BG9Ih"
   },
   "source": [
    "### Training"
   ]
  },
  {
   "cell_type": "markdown",
   "metadata": {
    "id": "o-1WWgnxG9Ii"
   },
   "source": [
    "We set the loss function (optimization goal) and the optimizer."
   ]
  },
  {
   "cell_type": "code",
   "execution_count": 44,
   "metadata": {
    "id": "yY7CXtMYG9Ii",
    "ExecuteTime": {
     "end_time": "2023-12-20T14:34:12.231038Z",
     "start_time": "2023-12-20T14:34:12.226303Z"
    }
   },
   "outputs": [],
   "source": [
    "loss_fn = nn.CrossEntropyLoss()\n",
    "optimizer = torch.optim.SGD(model.parameters(), lr=1e-3)"
   ]
  },
  {
   "cell_type": "markdown",
   "metadata": {
    "id": "pMNO54CZG9Ii"
   },
   "source": [
    "Code for visualizing the learning process.\n",
    "\n",
    "Every `interval` optimization steps and at the end of epochs, we write the values of the loss function and metrics to the log. <br>\n",
    "Then, by calling the `show_progress` function, we update the training schedule. <br>"
   ]
  },
  {
   "cell_type": "code",
   "execution_count": 45,
   "metadata": {
    "id": "rFWRUYv7G9Ik",
    "ExecuteTime": {
     "end_time": "2023-12-20T14:34:14.481189Z",
     "start_time": "2023-12-20T14:34:14.475560Z"
    }
   },
   "outputs": [],
   "source": [
    "# Training logs\n",
    "interval = 100\n",
    "train_ts, train_loss = [], []\n",
    "val_ts, val_loss, val_acc = [], [], []"
   ]
  },
  {
   "cell_type": "code",
   "execution_count": 46,
   "metadata": {
    "id": "UBMWEFpBG9Ik",
    "ExecuteTime": {
     "end_time": "2023-12-20T14:34:15.010371Z",
     "start_time": "2023-12-20T14:34:15.006962Z"
    }
   },
   "outputs": [],
   "source": [
    "def show_progress(t):\n",
    "    clear_output(wait=True)\n",
    "    fig, (ax1, ax2) = plt.subplots(1, 2, constrained_layout=True, figsize=(20, 5))\n",
    "    fig.suptitle(f'Epoch {t:3.3f}', fontsize=16)\n",
    "    ax1.set_title('loss')\n",
    "    ax1.set_xlabel('time (epochs)')\n",
    "    ax1.set_ylabel('loss')\n",
    "    ax1.plot(train_ts, train_loss, c='darkblue', lw=3)\n",
    "    ax1.plot(val_ts, val_loss, c='green', marker='o', lw=5)\n",
    "    ax2.set_title('accuracy')\n",
    "    ax2.set_xlabel('time (epochs)')\n",
    "    ax2.plot(val_ts, val_acc, c='green', marker='o', lw=5)\n",
    "    plt.show() "
   ]
  },
  {
   "cell_type": "code",
   "execution_count": 47,
   "metadata": {
    "id": "J73Mczw8G9Il",
    "ExecuteTime": {
     "end_time": "2023-12-20T14:34:15.774501Z",
     "start_time": "2023-12-20T14:34:15.762972Z"
    }
   },
   "outputs": [],
   "source": [
    "def train(epoch, dataloader, model, loss_fn, optimizer):\n",
    "    model.train()\n",
    "    num_batches = len(dataloader)\n",
    "    for batch, (X, y) in enumerate(dataloader):\n",
    "        # Send data to training device\n",
    "        X, y = X.to(device), y.to(device)\n",
    "        # Compute prediction error\n",
    "        pred = model(X)\n",
    "        loss = loss_fn(pred, y)\n",
    "        # Backpropagation\n",
    "        optimizer.zero_grad()\n",
    "        loss.backward()\n",
    "        optimizer.step()\n",
    "        # Progress output\n",
    "        if batch % interval == 0:\n",
    "            t = epoch + (batch + 1)/num_batches\n",
    "            train_ts.append(t)\n",
    "            train_loss.append(loss.item())\n",
    "            show_progress(t)"
   ]
  },
  {
   "cell_type": "code",
   "execution_count": 48,
   "metadata": {
    "id": "q0JV_05_G9Il",
    "ExecuteTime": {
     "end_time": "2023-12-20T14:34:16.593742Z",
     "start_time": "2023-12-20T14:34:16.586779Z"
    }
   },
   "outputs": [],
   "source": [
    "def test(epoch, dataloader, model, loss_fn):\n",
    "    model.eval()\n",
    "    num_batches = len(dataloader)\n",
    "    size = len(dataloader.dataset)\n",
    "    test_loss, correct = 0, 0\n",
    "    with torch.no_grad():\n",
    "        for X, y in dataloader:\n",
    "            X, y = X.to(device), y.to(device)\n",
    "            pred = model(X)\n",
    "            test_loss += loss_fn(pred, y).item()\n",
    "            correct += (pred.argmax(1) == y).type(torch.float).sum().item()\n",
    "    test_loss /= num_batches\n",
    "    correct /= size\n",
    "    val_ts.append(epoch+1)\n",
    "    val_loss.append(test_loss)\n",
    "    val_acc.append(correct)\n",
    "    show_progress(epoch+1)"
   ]
  },
  {
   "cell_type": "markdown",
   "metadata": {
    "id": "1PTeo8aKG9Il"
   },
   "source": [
    "Training loop."
   ]
  },
  {
   "cell_type": "code",
   "execution_count": 49,
   "metadata": {
    "id": "CAPMHsGhG9Im",
    "outputId": "a0a75bf6-2b37-4f70-dc68-de6ea1944e23"
   },
   "outputs": [
    {
     "data": {
      "text/plain": "<Figure size 2000x500 with 2 Axes>",
      "image/png": "[encoded data removed]"
     },
     "metadata": {},
     "output_type": "display_data"
    },
    {
     "name": "stderr",
     "output_type": "stream",
     "text": [
      "  0%|          | 0/50 [00:26<?, ?it/s]\n"
     ]
    },
    {
     "ename": "KeyboardInterrupt",
     "evalue": "",
     "output_type": "error",
     "traceback": [
      "\u001B[0;31m---------------------------------------------------------------------------\u001B[0m",
      "\u001B[0;31mKeyboardInterrupt\u001B[0m                         Traceback (most recent call last)",
      "Cell \u001B[0;32mIn[49], line 3\u001B[0m\n\u001B[1;32m      1\u001B[0m epochs \u001B[38;5;241m=\u001B[39m \u001B[38;5;241m50\u001B[39m\n\u001B[1;32m      2\u001B[0m \u001B[38;5;28;01mfor\u001B[39;00m t \u001B[38;5;129;01min\u001B[39;00m trange(epochs):\n\u001B[0;32m----> 3\u001B[0m     \u001B[43mtrain\u001B[49m\u001B[43m(\u001B[49m\u001B[43mt\u001B[49m\u001B[43m,\u001B[49m\u001B[43m \u001B[49m\u001B[43mtrain_dataloader\u001B[49m\u001B[43m,\u001B[49m\u001B[43m \u001B[49m\u001B[43mmodel\u001B[49m\u001B[43m,\u001B[49m\u001B[43m \u001B[49m\u001B[43mloss_fn\u001B[49m\u001B[43m,\u001B[49m\u001B[43m \u001B[49m\u001B[43moptimizer\u001B[49m\u001B[43m)\u001B[49m\n\u001B[1;32m      4\u001B[0m     test(t, val_dataloader, model, loss_fn)\n",
      "Cell \u001B[0;32mIn[47], line 8\u001B[0m, in \u001B[0;36mtrain\u001B[0;34m(epoch, dataloader, model, loss_fn, optimizer)\u001B[0m\n\u001B[1;32m      6\u001B[0m X, y \u001B[38;5;241m=\u001B[39m X\u001B[38;5;241m.\u001B[39mto(device), y\u001B[38;5;241m.\u001B[39mto(device)\n\u001B[1;32m      7\u001B[0m \u001B[38;5;66;03m# Compute prediction error\u001B[39;00m\n\u001B[0;32m----> 8\u001B[0m pred \u001B[38;5;241m=\u001B[39m \u001B[43mmodel\u001B[49m\u001B[43m(\u001B[49m\u001B[43mX\u001B[49m\u001B[43m)\u001B[49m\n\u001B[1;32m      9\u001B[0m loss \u001B[38;5;241m=\u001B[39m loss_fn(pred, y)\n\u001B[1;32m     10\u001B[0m \u001B[38;5;66;03m# Backpropagation\u001B[39;00m\n",
      "File \u001B[0;32m~/Library/Python/3.9/lib/python/site-packages/torch/nn/modules/module.py:1518\u001B[0m, in \u001B[0;36mModule._wrapped_call_impl\u001B[0;34m(self, *args, **kwargs)\u001B[0m\n\u001B[1;32m   1516\u001B[0m     \u001B[38;5;28;01mreturn\u001B[39;00m \u001B[38;5;28mself\u001B[39m\u001B[38;5;241m.\u001B[39m_compiled_call_impl(\u001B[38;5;241m*\u001B[39margs, \u001B[38;5;241m*\u001B[39m\u001B[38;5;241m*\u001B[39mkwargs)  \u001B[38;5;66;03m# type: ignore[misc]\u001B[39;00m\n\u001B[1;32m   1517\u001B[0m \u001B[38;5;28;01melse\u001B[39;00m:\n\u001B[0;32m-> 1518\u001B[0m     \u001B[38;5;28;01mreturn\u001B[39;00m \u001B[38;5;28;43mself\u001B[39;49m\u001B[38;5;241;43m.\u001B[39;49m\u001B[43m_call_impl\u001B[49m\u001B[43m(\u001B[49m\u001B[38;5;241;43m*\u001B[39;49m\u001B[43margs\u001B[49m\u001B[43m,\u001B[49m\u001B[43m \u001B[49m\u001B[38;5;241;43m*\u001B[39;49m\u001B[38;5;241;43m*\u001B[39;49m\u001B[43mkwargs\u001B[49m\u001B[43m)\u001B[49m\n",
      "File \u001B[0;32m~/Library/Python/3.9/lib/python/site-packages/torch/nn/modules/module.py:1527\u001B[0m, in \u001B[0;36mModule._call_impl\u001B[0;34m(self, *args, **kwargs)\u001B[0m\n\u001B[1;32m   1522\u001B[0m \u001B[38;5;66;03m# If we don't have any hooks, we want to skip the rest of the logic in\u001B[39;00m\n\u001B[1;32m   1523\u001B[0m \u001B[38;5;66;03m# this function, and just call forward.\u001B[39;00m\n\u001B[1;32m   1524\u001B[0m \u001B[38;5;28;01mif\u001B[39;00m \u001B[38;5;129;01mnot\u001B[39;00m (\u001B[38;5;28mself\u001B[39m\u001B[38;5;241m.\u001B[39m_backward_hooks \u001B[38;5;129;01mor\u001B[39;00m \u001B[38;5;28mself\u001B[39m\u001B[38;5;241m.\u001B[39m_backward_pre_hooks \u001B[38;5;129;01mor\u001B[39;00m \u001B[38;5;28mself\u001B[39m\u001B[38;5;241m.\u001B[39m_forward_hooks \u001B[38;5;129;01mor\u001B[39;00m \u001B[38;5;28mself\u001B[39m\u001B[38;5;241m.\u001B[39m_forward_pre_hooks\n\u001B[1;32m   1525\u001B[0m         \u001B[38;5;129;01mor\u001B[39;00m _global_backward_pre_hooks \u001B[38;5;129;01mor\u001B[39;00m _global_backward_hooks\n\u001B[1;32m   1526\u001B[0m         \u001B[38;5;129;01mor\u001B[39;00m _global_forward_hooks \u001B[38;5;129;01mor\u001B[39;00m _global_forward_pre_hooks):\n\u001B[0;32m-> 1527\u001B[0m     \u001B[38;5;28;01mreturn\u001B[39;00m \u001B[43mforward_call\u001B[49m\u001B[43m(\u001B[49m\u001B[38;5;241;43m*\u001B[39;49m\u001B[43margs\u001B[49m\u001B[43m,\u001B[49m\u001B[43m \u001B[49m\u001B[38;5;241;43m*\u001B[39;49m\u001B[38;5;241;43m*\u001B[39;49m\u001B[43mkwargs\u001B[49m\u001B[43m)\u001B[49m\n\u001B[1;32m   1529\u001B[0m \u001B[38;5;28;01mtry\u001B[39;00m:\n\u001B[1;32m   1530\u001B[0m     result \u001B[38;5;241m=\u001B[39m \u001B[38;5;28;01mNone\u001B[39;00m\n",
      "Cell \u001B[0;32mIn[43], line 34\u001B[0m, in \u001B[0;36mAlexNet.forward\u001B[0;34m(self, x)\u001B[0m\n\u001B[1;32m     32\u001B[0m x \u001B[38;5;241m=\u001B[39m \u001B[38;5;28mself\u001B[39m\u001B[38;5;241m.\u001B[39mavgpool(x)\n\u001B[1;32m     33\u001B[0m x \u001B[38;5;241m=\u001B[39m x\u001B[38;5;241m.\u001B[39mview(x\u001B[38;5;241m.\u001B[39msize(\u001B[38;5;241m0\u001B[39m), \u001B[38;5;241m256\u001B[39m \u001B[38;5;241m*\u001B[39m \u001B[38;5;241m6\u001B[39m \u001B[38;5;241m*\u001B[39m \u001B[38;5;241m6\u001B[39m)\n\u001B[0;32m---> 34\u001B[0m x \u001B[38;5;241m=\u001B[39m \u001B[38;5;28;43mself\u001B[39;49m\u001B[38;5;241;43m.\u001B[39;49m\u001B[43mclassifier\u001B[49m\u001B[43m(\u001B[49m\u001B[43mx\u001B[49m\u001B[43m)\u001B[49m\n\u001B[1;32m     35\u001B[0m \u001B[38;5;28;01mreturn\u001B[39;00m x\n",
      "File \u001B[0;32m~/Library/Python/3.9/lib/python/site-packages/torch/nn/modules/module.py:1518\u001B[0m, in \u001B[0;36mModule._wrapped_call_impl\u001B[0;34m(self, *args, **kwargs)\u001B[0m\n\u001B[1;32m   1516\u001B[0m     \u001B[38;5;28;01mreturn\u001B[39;00m \u001B[38;5;28mself\u001B[39m\u001B[38;5;241m.\u001B[39m_compiled_call_impl(\u001B[38;5;241m*\u001B[39margs, \u001B[38;5;241m*\u001B[39m\u001B[38;5;241m*\u001B[39mkwargs)  \u001B[38;5;66;03m# type: ignore[misc]\u001B[39;00m\n\u001B[1;32m   1517\u001B[0m \u001B[38;5;28;01melse\u001B[39;00m:\n\u001B[0;32m-> 1518\u001B[0m     \u001B[38;5;28;01mreturn\u001B[39;00m \u001B[38;5;28;43mself\u001B[39;49m\u001B[38;5;241;43m.\u001B[39;49m\u001B[43m_call_impl\u001B[49m\u001B[43m(\u001B[49m\u001B[38;5;241;43m*\u001B[39;49m\u001B[43margs\u001B[49m\u001B[43m,\u001B[49m\u001B[43m \u001B[49m\u001B[38;5;241;43m*\u001B[39;49m\u001B[38;5;241;43m*\u001B[39;49m\u001B[43mkwargs\u001B[49m\u001B[43m)\u001B[49m\n",
      "File \u001B[0;32m~/Library/Python/3.9/lib/python/site-packages/torch/nn/modules/module.py:1527\u001B[0m, in \u001B[0;36mModule._call_impl\u001B[0;34m(self, *args, **kwargs)\u001B[0m\n\u001B[1;32m   1522\u001B[0m \u001B[38;5;66;03m# If we don't have any hooks, we want to skip the rest of the logic in\u001B[39;00m\n\u001B[1;32m   1523\u001B[0m \u001B[38;5;66;03m# this function, and just call forward.\u001B[39;00m\n\u001B[1;32m   1524\u001B[0m \u001B[38;5;28;01mif\u001B[39;00m \u001B[38;5;129;01mnot\u001B[39;00m (\u001B[38;5;28mself\u001B[39m\u001B[38;5;241m.\u001B[39m_backward_hooks \u001B[38;5;129;01mor\u001B[39;00m \u001B[38;5;28mself\u001B[39m\u001B[38;5;241m.\u001B[39m_backward_pre_hooks \u001B[38;5;129;01mor\u001B[39;00m \u001B[38;5;28mself\u001B[39m\u001B[38;5;241m.\u001B[39m_forward_hooks \u001B[38;5;129;01mor\u001B[39;00m \u001B[38;5;28mself\u001B[39m\u001B[38;5;241m.\u001B[39m_forward_pre_hooks\n\u001B[1;32m   1525\u001B[0m         \u001B[38;5;129;01mor\u001B[39;00m _global_backward_pre_hooks \u001B[38;5;129;01mor\u001B[39;00m _global_backward_hooks\n\u001B[1;32m   1526\u001B[0m         \u001B[38;5;129;01mor\u001B[39;00m _global_forward_hooks \u001B[38;5;129;01mor\u001B[39;00m _global_forward_pre_hooks):\n\u001B[0;32m-> 1527\u001B[0m     \u001B[38;5;28;01mreturn\u001B[39;00m \u001B[43mforward_call\u001B[49m\u001B[43m(\u001B[49m\u001B[38;5;241;43m*\u001B[39;49m\u001B[43margs\u001B[49m\u001B[43m,\u001B[49m\u001B[43m \u001B[49m\u001B[38;5;241;43m*\u001B[39;49m\u001B[38;5;241;43m*\u001B[39;49m\u001B[43mkwargs\u001B[49m\u001B[43m)\u001B[49m\n\u001B[1;32m   1529\u001B[0m \u001B[38;5;28;01mtry\u001B[39;00m:\n\u001B[1;32m   1530\u001B[0m     result \u001B[38;5;241m=\u001B[39m \u001B[38;5;28;01mNone\u001B[39;00m\n",
      "File \u001B[0;32m~/Library/Python/3.9/lib/python/site-packages/torch/nn/modules/container.py:215\u001B[0m, in \u001B[0;36mSequential.forward\u001B[0;34m(self, input)\u001B[0m\n\u001B[1;32m    213\u001B[0m \u001B[38;5;28;01mdef\u001B[39;00m \u001B[38;5;21mforward\u001B[39m(\u001B[38;5;28mself\u001B[39m, \u001B[38;5;28minput\u001B[39m):\n\u001B[1;32m    214\u001B[0m     \u001B[38;5;28;01mfor\u001B[39;00m module \u001B[38;5;129;01min\u001B[39;00m \u001B[38;5;28mself\u001B[39m:\n\u001B[0;32m--> 215\u001B[0m         \u001B[38;5;28minput\u001B[39m \u001B[38;5;241m=\u001B[39m \u001B[43mmodule\u001B[49m\u001B[43m(\u001B[49m\u001B[38;5;28;43minput\u001B[39;49m\u001B[43m)\u001B[49m\n\u001B[1;32m    216\u001B[0m     \u001B[38;5;28;01mreturn\u001B[39;00m \u001B[38;5;28minput\u001B[39m\n",
      "File \u001B[0;32m~/Library/Python/3.9/lib/python/site-packages/torch/nn/modules/module.py:1518\u001B[0m, in \u001B[0;36mModule._wrapped_call_impl\u001B[0;34m(self, *args, **kwargs)\u001B[0m\n\u001B[1;32m   1516\u001B[0m     \u001B[38;5;28;01mreturn\u001B[39;00m \u001B[38;5;28mself\u001B[39m\u001B[38;5;241m.\u001B[39m_compiled_call_impl(\u001B[38;5;241m*\u001B[39margs, \u001B[38;5;241m*\u001B[39m\u001B[38;5;241m*\u001B[39mkwargs)  \u001B[38;5;66;03m# type: ignore[misc]\u001B[39;00m\n\u001B[1;32m   1517\u001B[0m \u001B[38;5;28;01melse\u001B[39;00m:\n\u001B[0;32m-> 1518\u001B[0m     \u001B[38;5;28;01mreturn\u001B[39;00m \u001B[38;5;28;43mself\u001B[39;49m\u001B[38;5;241;43m.\u001B[39;49m\u001B[43m_call_impl\u001B[49m\u001B[43m(\u001B[49m\u001B[38;5;241;43m*\u001B[39;49m\u001B[43margs\u001B[49m\u001B[43m,\u001B[49m\u001B[43m \u001B[49m\u001B[38;5;241;43m*\u001B[39;49m\u001B[38;5;241;43m*\u001B[39;49m\u001B[43mkwargs\u001B[49m\u001B[43m)\u001B[49m\n",
      "File \u001B[0;32m~/Library/Python/3.9/lib/python/site-packages/torch/nn/modules/module.py:1527\u001B[0m, in \u001B[0;36mModule._call_impl\u001B[0;34m(self, *args, **kwargs)\u001B[0m\n\u001B[1;32m   1522\u001B[0m \u001B[38;5;66;03m# If we don't have any hooks, we want to skip the rest of the logic in\u001B[39;00m\n\u001B[1;32m   1523\u001B[0m \u001B[38;5;66;03m# this function, and just call forward.\u001B[39;00m\n\u001B[1;32m   1524\u001B[0m \u001B[38;5;28;01mif\u001B[39;00m \u001B[38;5;129;01mnot\u001B[39;00m (\u001B[38;5;28mself\u001B[39m\u001B[38;5;241m.\u001B[39m_backward_hooks \u001B[38;5;129;01mor\u001B[39;00m \u001B[38;5;28mself\u001B[39m\u001B[38;5;241m.\u001B[39m_backward_pre_hooks \u001B[38;5;129;01mor\u001B[39;00m \u001B[38;5;28mself\u001B[39m\u001B[38;5;241m.\u001B[39m_forward_hooks \u001B[38;5;129;01mor\u001B[39;00m \u001B[38;5;28mself\u001B[39m\u001B[38;5;241m.\u001B[39m_forward_pre_hooks\n\u001B[1;32m   1525\u001B[0m         \u001B[38;5;129;01mor\u001B[39;00m _global_backward_pre_hooks \u001B[38;5;129;01mor\u001B[39;00m _global_backward_hooks\n\u001B[1;32m   1526\u001B[0m         \u001B[38;5;129;01mor\u001B[39;00m _global_forward_hooks \u001B[38;5;129;01mor\u001B[39;00m _global_forward_pre_hooks):\n\u001B[0;32m-> 1527\u001B[0m     \u001B[38;5;28;01mreturn\u001B[39;00m \u001B[43mforward_call\u001B[49m\u001B[43m(\u001B[49m\u001B[38;5;241;43m*\u001B[39;49m\u001B[43margs\u001B[49m\u001B[43m,\u001B[49m\u001B[43m \u001B[49m\u001B[38;5;241;43m*\u001B[39;49m\u001B[38;5;241;43m*\u001B[39;49m\u001B[43mkwargs\u001B[49m\u001B[43m)\u001B[49m\n\u001B[1;32m   1529\u001B[0m \u001B[38;5;28;01mtry\u001B[39;00m:\n\u001B[1;32m   1530\u001B[0m     result \u001B[38;5;241m=\u001B[39m \u001B[38;5;28;01mNone\u001B[39;00m\n",
      "File \u001B[0;32m~/Library/Python/3.9/lib/python/site-packages/torch/nn/modules/linear.py:114\u001B[0m, in \u001B[0;36mLinear.forward\u001B[0;34m(self, input)\u001B[0m\n\u001B[1;32m    113\u001B[0m \u001B[38;5;28;01mdef\u001B[39;00m \u001B[38;5;21mforward\u001B[39m(\u001B[38;5;28mself\u001B[39m, \u001B[38;5;28minput\u001B[39m: Tensor) \u001B[38;5;241m-\u001B[39m\u001B[38;5;241m>\u001B[39m Tensor:\n\u001B[0;32m--> 114\u001B[0m     \u001B[38;5;28;01mreturn\u001B[39;00m \u001B[43mF\u001B[49m\u001B[38;5;241;43m.\u001B[39;49m\u001B[43mlinear\u001B[49m\u001B[43m(\u001B[49m\u001B[38;5;28;43minput\u001B[39;49m\u001B[43m,\u001B[49m\u001B[43m \u001B[49m\u001B[38;5;28;43mself\u001B[39;49m\u001B[38;5;241;43m.\u001B[39;49m\u001B[43mweight\u001B[49m\u001B[43m,\u001B[49m\u001B[43m \u001B[49m\u001B[38;5;28;43mself\u001B[39;49m\u001B[38;5;241;43m.\u001B[39;49m\u001B[43mbias\u001B[49m\u001B[43m)\u001B[49m\n",
      "\u001B[0;31mKeyboardInterrupt\u001B[0m: "
     ]
    }
   ],
   "source": [
    "epochs = 50\n",
    "for t in trange(epochs):\n",
    "    train(t, train_dataloader, model, loss_fn, optimizer)\n",
    "    test(t, val_dataloader, model, loss_fn)"
   ]
  },
  {
   "cell_type": "code",
   "execution_count": 30,
   "outputs": [],
   "source": [
    "torch.save(model, \"image-classification/final_model_v_1\")"
   ],
   "metadata": {
    "collapsed": false,
    "ExecuteTime": {
     "end_time": "2023-12-20T14:24:41.426370Z",
     "start_time": "2023-12-20T14:24:41.418027Z"
    }
   }
  },
  {
   "cell_type": "markdown",
   "metadata": {
    "id": "iZ-Tyj3-G9Im"
   },
   "source": [
    "### Submit solution"
   ]
  },
  {
   "cell_type": "markdown",
   "metadata": {
    "id": "_PtkIkUsG9Im"
   },
   "source": [
    "Download the test part of the dataset."
   ]
  },
  {
   "cell_type": "code",
   "execution_count": 31,
   "metadata": {
    "id": "ZrogskJDG9Im",
    "ExecuteTime": {
     "end_time": "2023-12-20T14:26:29.681615Z",
     "start_time": "2023-12-20T14:26:29.550251Z"
    }
   },
   "outputs": [],
   "source": [
    "test_data = SVHN(\n",
    "    root=dataset_root,\n",
    "    is_train=False,\n",
    "    transform=ToTensor(),\n",
    ")"
   ]
  },
  {
   "cell_type": "code",
   "execution_count": 32,
   "metadata": {
    "id": "XTREMaKBG9Io",
    "ExecuteTime": {
     "end_time": "2023-12-20T14:26:31.587553Z",
     "start_time": "2023-12-20T14:26:31.580546Z"
    }
   },
   "outputs": [],
   "source": [
    "test_dataloader = DataLoader(\n",
    "    test_data, \n",
    "    batch_size=batch_size,\n",
    ")"
   ]
  },
  {
   "cell_type": "markdown",
   "metadata": {
    "id": "i63WwoOdG9Io"
   },
   "source": [
    "We make predictions by the final model."
   ]
  },
  {
   "cell_type": "code",
   "execution_count": 33,
   "metadata": {
    "id": "bYVwjcUYG9Io",
    "ExecuteTime": {
     "end_time": "2023-12-20T14:26:35.921152Z",
     "start_time": "2023-12-20T14:26:34.914483Z"
    }
   },
   "outputs": [],
   "source": [
    "predictions = []\n",
    "\n",
    "model.eval()\n",
    "with torch.no_grad():\n",
    "    for X, _ in test_dataloader:\n",
    "        X = X.to(device)\n",
    "        pred = model(X).argmax(1).cpu().numpy()\n",
    "        predictions.extend(list(pred))"
   ]
  },
  {
   "cell_type": "markdown",
   "metadata": {
    "id": "uViY1xXtG9Ip"
   },
   "source": [
    "We form a solution file to submit to Kaggle."
   ]
  },
  {
   "cell_type": "code",
   "execution_count": 34,
   "metadata": {
    "id": "pO4QZrCgG9Ip",
    "ExecuteTime": {
     "end_time": "2023-12-20T14:27:07.608240Z",
     "start_time": "2023-12-20T14:27:07.594528Z"
    }
   },
   "outputs": [],
   "source": [
    "def write_solution(filename, labels):\n",
    "    with open(filename, 'w') as solution:\n",
    "        print('Id,Category', file=solution)\n",
    "        for i, label in enumerate(labels):\n",
    "            print(f'{i},{label}', file=solution)\n",
    "            \n",
    "write_solution('image-classification/image-comp-data/solution.csv', predictions)"
   ]
  },
  {
   "cell_type": "code",
   "execution_count": null,
   "outputs": [],
   "source": [],
   "metadata": {
    "collapsed": false
   }
  }
 ],
 "metadata": {
  "colab": {
   "collapsed_sections": [],
   "name": "homework5.ipynb",
   "provenance": []
  },
  "kernelspec": {
   "display_name": "Python 3 (ipykernel)",
   "language": "python",
   "name": "python3"
  },
  "language_info": {
   "codemirror_mode": {
    "name": "ipython",
    "version": 3
   },
   "file_extension": ".py",
   "mimetype": "text/x-python",
   "name": "python",
   "nbconvert_exporter": "python",
   "pygments_lexer": "ipython3",
   "version": "3.8.10"
  }
 },
 "nbformat": 4,
 "nbformat_minor": 1
}
