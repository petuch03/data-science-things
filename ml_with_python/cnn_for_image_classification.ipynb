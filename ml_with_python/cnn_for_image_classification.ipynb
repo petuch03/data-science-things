{
 "cells": [
  {
   "cell_type": "markdown",
   "source": [
    "<a href=\"https://colab.research.google.com/github/petuch03/data-science-things/blob/master/ml_with_python/binary_classification_problem.ipynb\" target=\"_parent\"><img src=\"https://colab.research.google.com/assets/colab-badge.svg\" alt=\"Open In Colab\"/></a>\n",
    "\n",
    "<a href=\"https://www.kaggle.com/competitions/nup-ml-1-2023-image-classification/leaderboard\" target=\"_parent\">Kaggle Competition</a>"
   ],
   "metadata": {
    "collapsed": false
   },
   "id": "6f03856a3ef2a97"
  },
  {
   "cell_type": "markdown",
   "source": [
    "## Description\n",
    "In this homework, you need to write a convolutional neural network for image classification.\n",
    "\n",
    "You have been provided with a modified dataset of The Street View House Numbers (SVHN). It contains 50 thousand (train) + 25 thousand (test) 32x32 RGB images with numbers cut from real photos of house numbers.\n",
    "\n",
    "Task: use convolutional neural networks to achieve maximum classification accuracy.\n",
    "\n",
    "In this homework task, there are no restrictions on the architecture of the model, but you need to implement it in PyTorch by yourself and train it from scratch only on this dataset, without external data.\n",
    "\n",
    "Baseline notebook from Repository - https://colab.research.google.com/github/avalur/avalur.github.io/blob/master/ml_with_python/hw_cnn_competition_baseline.ipynb"
   ],
   "metadata": {
    "collapsed": false
   },
   "id": "b28d25b054a3c4a0"
  },
  {
   "cell_type": "markdown",
   "source": [
    "## Evaluation\n",
    "\n",
    "The metric accuracy will evaluate the quality of the solution. Accuracy is the number of correctly classified pictures to the total number of pictures in the test set. The public leaderboard is calculated using 30% of the test data, so try not to retrain for it.\n",
    "\n",
    "` accuracy = (correct classified) / (total number of examples) `\n",
    "\n",
    "As a solution, you should send a file of the format:\n",
    "```\n",
    "ID,Category\n",
    "0, 3\n",
    "1, 2\n",
    "2, 9\n",
    "3, 1\n",
    "...\n",
    "```\n",
    "\n",
    "where:\n",
    "* `Id` — number of the object in the test dataset\n",
    "* `Category` — predicted object class"
   ],
   "metadata": {
    "collapsed": false
   },
   "id": "f9fe2c589d370572"
  }
 ],
 "metadata": {
  "kernelspec": {
   "display_name": "Python 3",
   "language": "python",
   "name": "python3"
  },
  "language_info": {
   "codemirror_mode": {
    "name": "ipython",
    "version": 2
   },
   "file_extension": ".py",
   "mimetype": "text/x-python",
   "name": "python",
   "nbconvert_exporter": "python",
   "pygments_lexer": "ipython2",
   "version": "2.7.6"
  }
 },
 "nbformat": 4,
 "nbformat_minor": 5
}
