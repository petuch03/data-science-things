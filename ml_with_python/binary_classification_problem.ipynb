{
  "nbformat": 4,
  "nbformat_minor": 0,
  "metadata": {
    "colab": {
      "provenance": [],
      "authorship_tag": "ABX9TyNab5ej0QbsNu453aILn+OV",
      "include_colab_link": true
    },
    "kernelspec": {
      "name": "python3",
      "display_name": "Python 3"
    },
    "language_info": {
      "name": "python"
    }
  },
  "cells": [
    {
      "cell_type": "markdown",
      "metadata": {
        "id": "view-in-github",
        "colab_type": "text"
      },
      "source": [
        "<a href=\"https://colab.research.google.com/github/petuch03/data-science-things/blob/master/ml_with_python/binary_classification_problem.ipynb\" target=\"_parent\"><img src=\"https://colab.research.google.com/assets/colab-badge.svg\" alt=\"Open In Colab\"/></a>"
      ]
    },
    {
      "cell_type": "code",
      "source": [
        "import pandas as pd\n",
        "from sklearn.model_selection import train_test_split, GridSearchCV\n",
        "from sklearn.ensemble import RandomForestClassifier\n",
        "from sklearn.metrics import accuracy_score, precision_score\n",
        "from sklearn.preprocessing import StandardScaler\n",
        "\n",
        "data = pd.read_csv('train.csv')\n",
        "\n",
        "for column in data.columns:\n",
        "    if data[column].isna().sum() > 0:\n",
        "        mean_value = data[column].mean()\n",
        "        data[column].fillna(mean_value, inplace=True)\n",
        "\n",
        "# Separate features and target\n",
        "X = data.drop('target', axis=1)\n",
        "y = data['target']\n",
        "\n",
        "X_train, X_test, y_train, y_test = train_test_split(X, y, test_size=0.2, random_state=42)\n",
        "\n",
        "scaler = StandardScaler()\n",
        "X_train = scaler.fit_transform(X_train)\n",
        "X_test = scaler.transform(X_test)\n",
        "\n",
        "model = RandomForestClassifier()\n",
        "model.fit(X_train, y_train)\n",
        "\n",
        "# Hyperparameters grid\n",
        "param_grid = {\n",
        "    'n_estimators': [100, 150, 200, 250, 300, 350, 400],  # Number of trees\n",
        "    'max_features': ['sqrt'],  # Number of features to consider at every split\n",
        "    'max_depth': [10, 20, 30, 40],  # Maximum number of levels in tree\n",
        "    'random_state': [30, 35, 40, 45, 50, 55, 60]\n",
        "}\n",
        "\n",
        "grid_search = GridSearchCV(estimator=model, param_grid=param_grid,\n",
        "                           cv=5, n_jobs=-1, verbose=2, scoring='accuracy')\n",
        "\n",
        "grid_search.fit(X_train, y_train)\n",
        "\n",
        "best_model = grid_search.best_estimator_\n",
        "# best_model = model\n",
        "\n",
        "# Print best parameters of the best_model\n",
        "print(\"Best Parameters:\", grid_search.best_params_)\n",
        "\n",
        "# feature_importances = best_model.feature_importances_\n",
        "# feature_names = X.columns\n",
        "# feature_importances_df = pd.DataFrame({'Feature': feature_names, 'Importance': feature_importances})\n",
        "# print(feature_importances_df.sort_values(by='Importance', ascending=False))\n",
        "\n",
        "predictions = best_model.predict(X_test)\n",
        "\n",
        "accuracy = accuracy_score(y_test, predictions)\n",
        "print(f'Accuracy: {accuracy}')"
      ],
      "metadata": {
        "colab": {
          "base_uri": "https://localhost:8080/"
        },
        "id": "vTt4wm2xaGZr",
        "outputId": "a8a73901-18f1-4e15-fbd5-2fa1f37e7e8b"
      },
      "execution_count": 76,
      "outputs": [
        {
          "output_type": "stream",
          "name": "stdout",
          "text": [
            "Fitting 5 folds for each of 196 candidates, totalling 980 fits\n",
            "Best Parameters: {'max_depth': 20, 'max_features': 'sqrt', 'n_estimators': 200, 'random_state': 30}\n",
            "Accuracy: 0.9\n"
          ]
        }
      ]
    },
    {
      "cell_type": "code",
      "source": [
        "new_data = pd.read_csv('test.csv')\n",
        "\n",
        "for column in new_data.columns:\n",
        "    if new_data[column].isna().sum() > 0:\n",
        "        mean_value = new_data[column].mean()\n",
        "        new_data[column].fillna(mean_value, inplace=True)\n",
        "\n",
        "new_data_scaled = scaler.transform(new_data.drop('Id', axis=1))\n",
        "new_predictions = best_model.predict(new_data_scaled)\n",
        "\n",
        "submission = pd.DataFrame({'target': new_predictions, 'Id': new_data['Id']})\n",
        "submission.to_csv('submission.csv', index=False)"
      ],
      "metadata": {
        "id": "MsT3dcjHXnpk"
      },
      "execution_count": 77,
      "outputs": []
    },
    {
      "cell_type": "code",
      "source": [],
      "metadata": {
        "id": "QM-Ljrl7gHEh"
      },
      "execution_count": null,
      "outputs": []
    }
  ]
}