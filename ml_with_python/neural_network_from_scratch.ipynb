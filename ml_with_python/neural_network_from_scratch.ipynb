{
  "cells": [
    {
      "cell_type": "markdown",
      "metadata": {
        "id": "view-in-github",
        "colab_type": "text"
      },
      "source": [
        "<a href=\"https://colab.research.google.com/github/petuch03/data-science-things/blob/master/ml_with_python/neural_network_from_scratch.ipynb\" target=\"_parent\"><img src=\"https://colab.research.google.com/assets/colab-badge.svg\" alt=\"Open In Colab\"/></a>"
      ]
    },
    {
      "cell_type": "markdown",
      "metadata": {
        "id": "G40l9lO2ObLr"
      },
      "source": [
        "## Homework: neural network from scratch"
      ]
    },
    {
      "cell_type": "markdown",
      "metadata": {
        "id": "HjTpe-786eGm"
      },
      "source": [
        "### Two-layer fully connected neural network in numpy\n",
        "\n",
        "This task proposes to implement the simple fully connected neural network “from scratch”, that is, only in numpy.\n",
        "To do this, you need to implement forward pass and backpropagation with updating the weights.\n",
        "\n",
        "It is advisable to do everything without additional loops, and it is imperative to achieve convergence on the binary classification problem four vertices of a two-dimensional square.\n",
        "\n",
        "The result of the work should be an implementation (.py or .ipynb) and a clear report (.ipynb or .pdf) with a brief description of the solution and a chart of the resulting convergence.\n",
        "If possible, run some experiments to speed up convergence by adding regularization or mini-batch learning."
      ]
    },
    {
      "cell_type": "code",
      "execution_count": 2,
      "outputs": [],
      "source": [
        "import numpy as np\n",
        "import sys\n",
        "import datetime\n",
        "import matplotlib.pyplot as plt\n",
        "\n",
        "\n",
        "def sigmoid(x):\n",
        "    return 1 / (1 + np.exp(-x))\n",
        "\n",
        "def sigmoid_derivative(x):\n",
        "    return x * (1 - x)\n",
        "\n",
        "def print_with_datetime(s):\n",
        "    time_string = datetime.datetime.now().strftime(\"%H:%M:%S\")\n",
        "    sys.stdout.write(\"\\r\" + time_string + \" \" + s)\n",
        "    sys.stdout.flush()\n"
      ],
      "metadata": {
        "ExecuteTime": {
          "end_time": "2023-09-15T07:00:38.331069500Z",
          "start_time": "2023-09-15T07:00:38.073564900Z"
        },
        "id": "sXDrqhqj6eGm"
      }
    },
    {
      "cell_type": "code",
      "execution_count": 37,
      "outputs": [
        {
          "output_type": "stream",
          "name": "stdout",
          "text": [
            "Initial hidden weights: [0.53413255 0.65880606] [0.12772223 0.71774141]\n",
            "Initial hidden biases: [0.3231832  0.91673572]\n",
            "Initial output weights: [0.1792817] [0.78066891]\n",
            "Initial output biases: [0.98074176]\n",
            "10:42:56 Epoch 14999 Loss 0.0016\n",
            "Final hidden weights: [3.8982873  6.35206793] [3.84463961 6.05437312]\n",
            "Final hidden bias: [-5.93326365 -2.64639481]\n",
            "Final output weights: [-8.86913275] [8.09343753]\n",
            "Final output bias: [-3.63394869]\n",
            "\n",
            "Output from neural network after 15000 epochs: [0.96232452] [0.04062177]\n",
            "\n",
            "Loss after 15000 epochs: 0.001580428826184968"
          ]
        },
        {
          "output_type": "display_data",
          "data": {
            "text/plain": [
              "<Figure size 640x480 with 1 Axes>"
            ],
            "image/png": "[encoded data removed]"
          },
          "metadata": {}
        }
      ],
      "source": [
        "# Input datasets\n",
        "inputs = np.array([[0, 0], [0, 1], [1, 0], [1, 1]])\n",
        "target = np.array([[0], [1], [1], [0]])\n",
        "\n",
        "epochs = 15000\n",
        "lr = 0.1\n",
        "batch_size = 2\n",
        "input_layer_neurons, hidden_layer_neurons, output_layer_neurons = 2, 2, 1\n",
        "\n",
        "# Random weights and bias initialization\n",
        "hidden_weights = np.random.uniform(size=(input_layer_neurons, hidden_layer_neurons))\n",
        "hidden_bias = np.random.uniform(size=(1, hidden_layer_neurons))\n",
        "output_weights = np.random.uniform(size=(hidden_layer_neurons, output_layer_neurons))\n",
        "output_bias = np.random.uniform(size=(1, output_layer_neurons))\n",
        "\n",
        "loss_history = []\n",
        "\n",
        "print(\"Initial hidden weights: \", end='')\n",
        "print(*hidden_weights)\n",
        "print(\"Initial hidden biases: \", end='')\n",
        "print(*hidden_bias)\n",
        "print(\"Initial output weights: \", end='')\n",
        "print(*output_weights)\n",
        "print(\"Initial output biases: \", end='')\n",
        "print(*output_bias)\n",
        "\n",
        "# Training algorithm\n",
        "for epoch in range(epochs):\n",
        "    # # The training data and corresponding targets are shuffled at the beginning of each epoch to introduce randomness\n",
        "    permutation = np.random.permutation(len(inputs))\n",
        "    inputs_shuffled = inputs[permutation]\n",
        "    target_shuffled = target[permutation]\n",
        "\n",
        "    batch_losses = []\n",
        "\n",
        "    # Mini-batch iteration\n",
        "    for i in range(0, len(inputs), batch_size):\n",
        "        # Select mini-batch\n",
        "        inputs_batch = inputs[i:i + batch_size]\n",
        "        target_batch = target[i:i + batch_size]\n",
        "\n",
        "        # Forward Propagation\n",
        "        # hidden_outputs is the output of the hidden layer after applying the sigmoid function.\n",
        "        hidden_layer_input = np.dot(inputs_batch, hidden_weights) + hidden_bias\n",
        "        hidden_outputs = sigmoid(hidden_layer_input)\n",
        "\n",
        "        # predicted_output is the final output of the network after applying the sigmoid function to the output layer's input.\n",
        "        output_layer_input = np.dot(hidden_outputs, output_weights) + output_bias\n",
        "        predicted_output = sigmoid(output_layer_input)\n",
        "\n",
        "        # Loss\n",
        "        loss = 0.5 * (target_batch - predicted_output) ** 2\n",
        "        loss = loss.sum()\n",
        "        batch_losses.append(loss)\n",
        "\n",
        "        # Backpropagation\n",
        "        # loss_by_output captures the element-wise difference between the predicted output and the target.\n",
        "        loss_by_output = predicted_output - target_batch\n",
        "        # predicted_output_derivative computes the derivative of the sigmoid function applied to predicted_output.\n",
        "        predicted_output_derivative = sigmoid_derivative(predicted_output)\n",
        "\n",
        "        # loss_by_output_bias and loss_by_output_weights represent the gradients for the bias and weights of the output layer, respectively.\n",
        "        loss_by_output_bias = loss_by_output * predicted_output_derivative\n",
        "        loss_by_output_weights = np.dot(hidden_outputs.T, loss_by_output_bias)\n",
        "\n",
        "        # loss_by_hidden_outputs calculates the error propagated back to the hidden layer.\n",
        "        loss_by_hidden_outputs = np.dot(loss_by_output_bias, output_weights.T)\n",
        "        # hidden_outputs_derivative computes the derivative of the sigmoid function applied to hidden_outputs.\n",
        "        hidden_outputs_derivative = sigmoid_derivative(hidden_outputs)\n",
        "        # loss_by_hidden_weights represents the gradient for the hidden layer's weights.\n",
        "        loss_by_hidden_weights = np.dot(inputs_batch.T, loss_by_hidden_outputs * hidden_outputs_derivative)\n",
        "\n",
        "        # Updating Weights and Biases\n",
        "        # The weights and biases are updated by subtracting the product of the learning rate and their respective gradients.\n",
        "        output_bias -= lr * np.sum(loss_by_output_bias, axis=0, keepdims=True)\n",
        "        output_weights -= lr * loss_by_output_weights\n",
        "        hidden_bias -= lr * np.sum(loss_by_hidden_outputs * hidden_outputs_derivative, axis=0, keepdims=True)\n",
        "        hidden_weights -= lr * loss_by_hidden_weights\n",
        "\n",
        "    epoch_loss = np.mean(batch_losses)\n",
        "    loss_history.append(epoch_loss)\n",
        "    print_with_datetime(\"Epoch {} Loss {:.4f}\".format(epoch, epoch_loss))\n",
        "\n",
        "print('')\n",
        "print(\"Final hidden weights: \", end='')\n",
        "print(*hidden_weights)\n",
        "print(\"Final hidden bias: \", end='')\n",
        "print(*hidden_bias)\n",
        "print(\"Final output weights: \", end='')\n",
        "print(*output_weights)\n",
        "print(\"Final output bias: \", end='')\n",
        "print(*output_bias)\n",
        "\n",
        "print(f\"\\nOutput from neural network after {epochs} epochs: \", end='')\n",
        "print(*predicted_output)\n",
        "print(f\"\\nLoss after {epochs} epochs: {loss_history[-1]}\", end='')\n",
        "\n",
        "\n",
        "plt.plot(loss_history)\n",
        "plt.title(\"Loss Convergence Over Epochs\")\n",
        "plt.xlabel(\"Epochs\")\n",
        "plt.ylabel(\"Loss\")\n",
        "plt.show()\n"
      ],
      "metadata": {
        "ExecuteTime": {
          "end_time": "2023-09-15T07:06:50.949037800Z",
          "start_time": "2023-09-15T07:06:50.918758200Z"
        },
        "id": "4rNsmzzU6eGn",
        "outputId": "9114840f-b634-4dd7-c604-8746b64ef93e",
        "colab": {
          "base_uri": "https://localhost:8080/",
          "height": 693
        }
      }
    }
  ],
  "metadata": {
    "colab": {
      "name": "Two-layer neural network from scratch",
      "provenance": [],
      "toc_visible": true,
      "include_colab_link": true
    },
    "kernelspec": {
      "display_name": "Python 3",
      "language": "python",
      "name": "python3"
    },
    "language_info": {
      "codemirror_mode": {
        "name": "ipython",
        "version": 3
      },
      "file_extension": ".py",
      "mimetype": "text/x-python",
      "name": "python",
      "nbconvert_exporter": "python",
      "pygments_lexer": "ipython3",
      "version": "3.7.6"
    }
  },
  "nbformat": 4,
  "nbformat_minor": 0
}